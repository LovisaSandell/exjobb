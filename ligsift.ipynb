{
 "cells": [
  {
   "cell_type": "markdown",
   "metadata": {},
   "source": [
    "## Testing LIGSIFT for some DUDs"
   ]
  },
  {
   "cell_type": "code",
   "execution_count": 1,
   "metadata": {},
   "outputs": [
    {
     "name": "stdout",
     "output_type": "stream",
     "text": [
      "/home/lovsa947/LIGSIFT/dud/output/ache.decoys.txt exists\n",
      "/home/lovsa947/LIGSIFT/dud/output/ache.ligands.txt exists\n",
      "/home/lovsa947/LIGSIFT/dud/output/ace.decoys.txt exists\n",
      "/home/lovsa947/LIGSIFT/dud/output/ace.ligands.txt exists\n"
     ]
    }
   ],
   "source": [
    "import glob\n",
    "import os\n",
    "import commands\n",
    "LIGSIFT='/home/lovsa947/LIGSIFT/LIGSIFT'\n",
    "dud_folder='/proj/dud/'\n",
    "for target_folder in glob.glob(dud_folder + 'targets/*'):\n",
    "    target=os.path.basename(target_folder)\n",
    "    #print target,target_folder\n",
    "    input_target=target_folder + '/xtal-lig.mol2'\n",
    "    decoy_db=dud_folder + 'dud_decoys2006/' + target + '_decoys.mol2'\n",
    "    ligands_db=dud_folder + 'dud_ligands2006/' + target + '_ligands.mol2'\n",
    "    #print decoy_db\n",
    "    #print ligands_db\n",
    "    output_file_decoys=dud_folder + 'output/' + target + '.decoys.txt'\n",
    "    output_file_ligands=dud_folder + 'output/' + target + '.ligands.txt'\n",
    "    \n",
    "    if not os.path.exists(output_file_decoys):\n",
    "        cmd_decoys='{} -q {} -db {} -o {}'.format(LIGSIFT,input_target, decoy_db, output_file_decoys+'.tmp')\n",
    "        print \"Running: \" + cmd_decoys\n",
    "        out=commands.getoutput(cmd_decoys)\n",
    "        commands.getoutput('mv ' + output_file_decoys+'.tmp' + ' ' + output_file_decoys)\n",
    "        #print out\n",
    "    else:\n",
    "        print output_file_decoys + ' exists'\n",
    "    if not os.path.exists(output_file_ligands):\n",
    "        cmd_ligands='{} -q {} -db {} -o {}'.format(LIGSIFT,input_target, ligands_db, output_file_ligands+'.tmp')\n",
    "        print \"Running: \" + cmd_ligands\n",
    "        commands.getoutput(cmd_ligands)\n",
    "        commands.getoutput('mv ' + output_file_ligands+'.tmp' + ' ' + output_file_ligands)\n",
    "\n",
    "    else:\n",
    "        print output_file_ligands + ' exists'\n",
    "    \n",
    "\n",
    "    \n",
    "    \n",
    "    "
   ]
  },
  {
   "cell_type": "code",
   "execution_count": null,
   "metadata": {
    "collapsed": true
   },
   "outputs": [],
   "source": [
    "Sortering av utfiler utifrån ChemTanimoto-score (bäst värden resultat enligt suppl. data S10)"
   ]
  },
  {
   "cell_type": "code",
   "execution_count": 143,
   "metadata": {
    "scrolled": false
   },
   "outputs": [
    {
     "name": "stdout",
     "output_type": "stream",
     "text": [
      "['Database_name', 'Query_name', 'ShapeTanimoto', 'ChemTanimoto', 'ShapeSim', 'ChemSim', 'ShapeSimPval', 'ChemSimPval', 'TverskyShape', 'TverskyChem']\n",
      "['ZINC03814183', '****', '0.476', '0.473', '0.605', '0.583', '3.348411e-03', '5.497682e-03', '0.773', '0.771']\n",
      "['ZINC03812851', '****', '0.447', '0.443', '0.583', '0.559', '6.978313e-03', '1.191815e-02', '0.750', '0.747']\n",
      "['ZINC03814185', '****', '0.428', '0.425', '0.572', '0.549', '6.993234e-03', '1.191959e-02', '0.751', '0.748']\n",
      "['ZINC03809801', '****', '0.427', '0.420', '0.570', '0.543', '8.378282e-03', '1.586744e-02', '0.745', '0.739']\n",
      "['ZINC03775164', '****', '0.419', '0.414', '0.561', '0.535', '1.386429e-02', '2.425704e-02', '0.727', '0.723']\n",
      "['ZINC03814184', '****', '0.396', '0.392', '0.548', '0.522', '1.533012e-02', '2.723458e-02', '0.724', '0.721']\n",
      "['ZINC03814176', '****', '0.380', '0.375', '0.531', '0.504', '3.401533e-02', '6.028605e-02', '0.693', '0.689']\n",
      "['ZINC03814187', '****', '0.380', '0.378', '0.534', '0.510', '2.638888e-02', '4.478538e-02', '0.705', '0.703']\n",
      "['ZINC03814188', '****', '0.376', '0.374', '0.533', '0.509', '2.435193e-02', '4.176201e-02', '0.708', '0.706']\n",
      "['ZINC03814158', '****', '0.375', '0.369', '0.528', '0.502', '4.590851e-02', '7.728166e-02', '0.657', '0.653']\n",
      "['ZINC03814194', '****', '0.372', '0.354', '0.524', '0.487', '4.860969e-02', '1.081862e-01', '0.669', '0.654']\n",
      "['ZINC03814199', '****', '0.365', '0.359', '0.523', '0.494', '3.795878e-02', '7.074551e-02', '0.691', '0.685']\n",
      "['ZINC03812885', '****', '0.364', '0.359', '0.523', '0.498', '5.274587e-02', '8.536371e-02', '0.638', '0.635']\n",
      "['ZINC03814180', '****', '0.358', '0.350', '0.516', '0.486', '4.842309e-02', '9.408731e-02', '0.681', '0.673']\n",
      "['ZINC03814181', '****', '0.358', '0.355', '0.524', '0.497', '2.834089e-02', '5.241195e-02', '0.701', '0.698']\n",
      "['ZINC03814170', '****', '0.349', '0.338', '0.509', '0.477', '7.780015e-02', '1.466582e-01', '0.635', '0.625']\n",
      "['ZINC01535869', '****', '0.340', '0.338', '0.500', '0.474', '9.435551e-02', '1.504746e-01', '0.640', '0.639']\n",
      "['ZINC03814173', '****', '0.340', '0.337', '0.509', '0.483', '4.855543e-02', '8.756436e-02', '0.681', '0.678']\n",
      "['ZINC03814167', '****', '0.335', '0.322', '0.505', '0.471', '8.582179e-02', '1.646467e-01', '0.607', '0.594']\n",
      "['ZINC03814193', '****', '0.332', '0.329', '0.502', '0.476', '5.997621e-02', '1.060586e-01', '0.672', '0.670']\n",
      "['ZINC03814197', '****', '0.328', '0.317', '0.491', '0.457', '1.210223e-01', '2.305574e-01', '0.628', '0.617']\n",
      "['ZINC03814168', '****', '0.325', '0.319', '0.489', '0.460', '1.278308e-01', '2.179164e-01', '0.619', '0.613']\n",
      "['ZINC03814163', '****', '0.323', '0.321', '0.487', '0.461', '1.335596e-01', '2.135322e-01', '0.619', '0.617']\n",
      "['ZINC03814192', '****', '0.316', '0.311', '0.485', '0.455', '1.218889e-01', '2.224061e-01', '0.640', '0.634']\n",
      "['ZINC03814175', '****', '0.306', '0.304', '0.487', '0.461', '9.192930e-02', '1.644037e-01', '0.652', '0.650']\n",
      "['ZINC03814190', '****', '0.290', '0.287', '0.472', '0.443', '1.595170e-01', '2.862023e-01', '0.628', '0.623']\n",
      "['ZINC03814191', '****', '0.288', '0.263', '0.467', '0.422', '2.252562e-01', '4.966242e-01', '0.565', '0.536']\n",
      "['ZINC03814195', '****', '0.287', '0.287', '0.463', '0.436', '2.256370e-01', '3.578341e-01', '0.608', '0.607']\n",
      "['ZINC03814179', '****', '0.286', '0.285', '0.459', '0.432', '2.696198e-01', '4.110143e-01', '0.580', '0.578']\n",
      "['ZINC03814171', '****', '0.283', '0.282', '0.459', '0.432', '2.747333e-01', '4.152027e-01', '0.571', '0.569']\n",
      "['ZINC03814166', '****', '0.276', '0.275', '0.462', '0.434', '2.126966e-01', '3.596015e-01', '0.612', '0.611']\n",
      "['ZINC03814161', '****', '0.274', '0.272', '0.451', '0.423', '3.299824e-01', '4.895331e-01', '0.561', '0.560']\n",
      "['ZINC03814196', '****', '0.269', '0.268', '0.449', '0.421', '3.229676e-01', '5.012576e-01', '0.586', '0.585']\n",
      "['ZINC03814186', '****', '0.264', '0.260', '0.443', '0.413', '3.926405e-01', '5.900024e-01', '0.552', '0.548']\n",
      "['ZINC03814162', '****', '0.263', '0.248', '0.451', '0.414', '3.251191e-01', '5.756357e-01', '0.531', '0.513']\n",
      "['ZINC03814182', '****', '0.255', '0.255', '0.443', '0.415', '3.633388e-01', '5.585536e-01', '0.580', '0.580']\n",
      "['ZINC03814178', '****', '0.251', '0.246', '0.439', '0.408', '4.022523e-01', '6.474964e-01', '0.573', '0.566']\n",
      "['ZINC03814200', '****', '0.251', '0.247', '0.433', '0.402', '4.841478e-01', '7.045091e-01', '0.543', '0.538']\n",
      "['ZINC03814177', '****', '0.250', '0.247', '0.432', '0.401', '4.947517e-01', '7.094965e-01', '0.544', '0.541']\n",
      "['ZINC03814164', '****', '0.242', '0.241', '0.427', '0.398', '5.376413e-01', '7.378094e-01', '0.524', '0.521']\n",
      "['ZINC03814157', '****', '0.235', '0.227', '0.439', '0.409', '4.149920e-01', '6.195465e-01', '0.487', '0.478']\n",
      "['ZINC03814165', '****', '0.231', '0.231', '0.418', '0.389', '6.385984e-01', '8.292961e-01', '0.520', '0.519']\n",
      "['ZINC03814169', '****', '0.231', '0.230', '0.418', '0.388', '6.403948e-01', '8.316849e-01', '0.519', '0.519']\n",
      "['ZINC03814159', '****', '0.228', '0.227', '0.415', '0.386', '6.620926e-01', '8.469271e-01', '0.512', '0.511']\n",
      "['ZINC03814174', '****', '0.228', '0.227', '0.427', '0.398', '5.443450e-01', '7.746788e-01', '0.551', '0.550']\n",
      "['ZINC03814189', '****', '0.227', '0.222', '0.416', '0.383', '6.611661e-01', '8.801571e-01', '0.526', '0.520']\n",
      "['ZINC03814160', '****', '0.226', '0.214', '0.417', '0.380', '6.374513e-01', '8.849226e-01', '0.494', '0.478']\n",
      "['ZINC03814198', '****', '0.226', '0.223', '0.417', '0.386', '6.522758e-01', '8.645330e-01', '0.530', '0.527']\n",
      "['ZINC03814172', '****', '0.225', '0.224', '0.413', '0.384', '6.881262e-01', '8.716984e-01', '0.515', '0.514']\n"
     ]
    }
   ],
   "source": [
    "#f = open('/home/lovsa947/exjobb/test.txt')\n",
    "\n",
    "def get_col(line):\n",
    "    return(line[3])\n",
    "f = open('/home/lovsa947/LIGSIFT/dud/output/ace.ligands.txt')\n",
    "\n",
    "l1=[]\n",
    "l2=[]\n",
    "g=f.readlines()\n",
    "data=[]\n",
    "header=[]\n",
    "for line in g:\n",
    "    a=line.strip('\\n')\n",
    "    #temp=a.split()\n",
    "    #print temp\n",
    "    if len(header) == 0:\n",
    "        header=a.split()\n",
    "    else:\n",
    "        data.append(a.split())\n",
    "    #print a\n",
    "\n",
    "  \n",
    "    \n",
    "    \n",
    "    \n",
    "    \n",
    "#for number in g:\n",
    " #   l1+=number[1]\n",
    "  #  l2+=number[2]\n",
    "#print l1\n",
    "#print l2\n",
    "    \n",
    "#sort -k 2 test.txt\n",
    "print header\n",
    "#print data\n",
    "from operator import itemgetter\n",
    "sorted_scores=sorted(data,key=itemgetter(2),reverse=True)\n",
    "for score in sorted_scores:\n",
    "    print score"
   ]
  },
  {
   "cell_type": "code",
   "execution_count": null,
   "metadata": {
    "collapsed": true
   },
   "outputs": [],
   "source": [
    "Kopiering av filer, funkar ej!!!"
   ]
  },
  {
   "cell_type": "code",
   "execution_count": 1,
   "metadata": {
    "scrolled": true
   },
   "outputs": [
    {
     "ename": "IOError",
     "evalue": "[Errno 2] No such file or directory: '/home/lovsa/exjobb/LIGSIFT/dud/output/ace.decoys.txt'",
     "output_type": "error",
     "traceback": [
      "\u001b[0;31m---------------------------------------------------------------------------\u001b[0m",
      "\u001b[0;31mIOError\u001b[0m                                   Traceback (most recent call last)",
      "\u001b[0;32m<ipython-input-1-9f3097696399>\u001b[0m in \u001b[0;36m<module>\u001b[0;34m()\u001b[0m\n\u001b[1;32m      2\u001b[0m \u001b[0;32mimport\u001b[0m \u001b[0mos\u001b[0m\u001b[0;34m\u001b[0m\u001b[0m\n\u001b[1;32m      3\u001b[0m shutil.copy('/home/lovsa/exjobb/LIGSIFT/dud/output/ace.decoys.txt',\n\u001b[0;32m----> 4\u001b[0;31m                             '/home/lovsa/exjobb/LIGSIFT/dud/output/sorted_ace_decoys.txt')\n\u001b[0m\u001b[1;32m      5\u001b[0m \u001b[0;34m\u001b[0m\u001b[0m\n\u001b[1;32m      6\u001b[0m \u001b[0;34m\u001b[0m\u001b[0m\n",
      "\u001b[0;32m/home/lovsa947/anaconda2/lib/python2.7/shutil.pyc\u001b[0m in \u001b[0;36mcopy\u001b[0;34m(src, dst)\u001b[0m\n\u001b[1;32m    131\u001b[0m     \u001b[0;32mif\u001b[0m \u001b[0mos\u001b[0m\u001b[0;34m.\u001b[0m\u001b[0mpath\u001b[0m\u001b[0;34m.\u001b[0m\u001b[0misdir\u001b[0m\u001b[0;34m(\u001b[0m\u001b[0mdst\u001b[0m\u001b[0;34m)\u001b[0m\u001b[0;34m:\u001b[0m\u001b[0;34m\u001b[0m\u001b[0m\n\u001b[1;32m    132\u001b[0m         \u001b[0mdst\u001b[0m \u001b[0;34m=\u001b[0m \u001b[0mos\u001b[0m\u001b[0;34m.\u001b[0m\u001b[0mpath\u001b[0m\u001b[0;34m.\u001b[0m\u001b[0mjoin\u001b[0m\u001b[0;34m(\u001b[0m\u001b[0mdst\u001b[0m\u001b[0;34m,\u001b[0m \u001b[0mos\u001b[0m\u001b[0;34m.\u001b[0m\u001b[0mpath\u001b[0m\u001b[0;34m.\u001b[0m\u001b[0mbasename\u001b[0m\u001b[0;34m(\u001b[0m\u001b[0msrc\u001b[0m\u001b[0;34m)\u001b[0m\u001b[0;34m)\u001b[0m\u001b[0;34m\u001b[0m\u001b[0m\n\u001b[0;32m--> 133\u001b[0;31m     \u001b[0mcopyfile\u001b[0m\u001b[0;34m(\u001b[0m\u001b[0msrc\u001b[0m\u001b[0;34m,\u001b[0m \u001b[0mdst\u001b[0m\u001b[0;34m)\u001b[0m\u001b[0;34m\u001b[0m\u001b[0m\n\u001b[0m\u001b[1;32m    134\u001b[0m     \u001b[0mcopymode\u001b[0m\u001b[0;34m(\u001b[0m\u001b[0msrc\u001b[0m\u001b[0;34m,\u001b[0m \u001b[0mdst\u001b[0m\u001b[0;34m)\u001b[0m\u001b[0;34m\u001b[0m\u001b[0m\n\u001b[1;32m    135\u001b[0m \u001b[0;34m\u001b[0m\u001b[0m\n",
      "\u001b[0;32m/home/lovsa947/anaconda2/lib/python2.7/shutil.pyc\u001b[0m in \u001b[0;36mcopyfile\u001b[0;34m(src, dst)\u001b[0m\n\u001b[1;32m     94\u001b[0m                 \u001b[0;32mraise\u001b[0m \u001b[0mSpecialFileError\u001b[0m\u001b[0;34m(\u001b[0m\u001b[0;34m\"`%s` is a named pipe\"\u001b[0m \u001b[0;34m%\u001b[0m \u001b[0mfn\u001b[0m\u001b[0;34m)\u001b[0m\u001b[0;34m\u001b[0m\u001b[0m\n\u001b[1;32m     95\u001b[0m \u001b[0;34m\u001b[0m\u001b[0m\n\u001b[0;32m---> 96\u001b[0;31m     \u001b[0;32mwith\u001b[0m \u001b[0mopen\u001b[0m\u001b[0;34m(\u001b[0m\u001b[0msrc\u001b[0m\u001b[0;34m,\u001b[0m \u001b[0;34m'rb'\u001b[0m\u001b[0;34m)\u001b[0m \u001b[0;32mas\u001b[0m \u001b[0mfsrc\u001b[0m\u001b[0;34m:\u001b[0m\u001b[0;34m\u001b[0m\u001b[0m\n\u001b[0m\u001b[1;32m     97\u001b[0m         \u001b[0;32mwith\u001b[0m \u001b[0mopen\u001b[0m\u001b[0;34m(\u001b[0m\u001b[0mdst\u001b[0m\u001b[0;34m,\u001b[0m \u001b[0;34m'wb'\u001b[0m\u001b[0;34m)\u001b[0m \u001b[0;32mas\u001b[0m \u001b[0mfdst\u001b[0m\u001b[0;34m:\u001b[0m\u001b[0;34m\u001b[0m\u001b[0m\n\u001b[1;32m     98\u001b[0m             \u001b[0mcopyfileobj\u001b[0m\u001b[0;34m(\u001b[0m\u001b[0mfsrc\u001b[0m\u001b[0;34m,\u001b[0m \u001b[0mfdst\u001b[0m\u001b[0;34m)\u001b[0m\u001b[0;34m\u001b[0m\u001b[0m\n",
      "\u001b[0;31mIOError\u001b[0m: [Errno 2] No such file or directory: '/home/lovsa/exjobb/LIGSIFT/dud/output/ace.decoys.txt'"
     ]
    }
   ],
   "source": [
    "import shutil\n",
    "import os\n",
    "shutil.copy('/home/lovsa/exjobb/LIGSIFT/dud/output/ace.decoys.txt',\n",
    "                            '/home/lovsa/exjobb/LIGSIFT/dud/output/sorted_ace_decoys.txt')\n",
    "\n",
    "\n",
    "\n"
   ]
  },
  {
   "cell_type": "code",
   "execution_count": null,
   "metadata": {
    "collapsed": true
   },
   "outputs": [],
   "source": []
  }
 ],
 "metadata": {
  "kernelspec": {
   "display_name": "Python 2",
   "language": "python",
   "name": "python2"
  },
  "language_info": {
   "codemirror_mode": {
    "name": "ipython",
    "version": 2
   },
   "file_extension": ".py",
   "mimetype": "text/x-python",
   "name": "python",
   "nbconvert_exporter": "python",
   "pygments_lexer": "ipython2",
   "version": "2.7.14"
  }
 },
 "nbformat": 4,
 "nbformat_minor": 2
}
